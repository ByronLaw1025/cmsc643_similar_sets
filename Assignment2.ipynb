{
 "cells": [
  {
   "cell_type": "code",
   "execution_count": 1,
   "metadata": {},
   "outputs": [],
   "source": [
    "import os\n",
    "import math\n",
    "import numpy as np\n",
    "import pandas as pd\n",
    "import matplotlib.pyplot as plt"
   ]
  },
  {
   "cell_type": "code",
   "execution_count": 2,
   "metadata": {},
   "outputs": [],
   "source": [
    "from os import getcwd\n",
    "TRAIN = os.path.join(getcwd(), 'MinHash/data/articles_1000.train')\n",
    "TRUTH = os.path.join(getcwd(), 'MinHash/data/articles_1000.truth')"
   ]
  },
  {
   "cell_type": "code",
   "execution_count": 3,
   "metadata": {},
   "outputs": [],
   "source": [
    "# mapping\n",
    "# cache the index of every docid for O(1) query later\n",
    "def docid_map(docids):\n",
    "    docid_col_map = dict()\n",
    "    for i in range(0, len(docids)):\n",
    "        docid_col_map[docids[i]] = i\n",
    "    return docid_col_map    "
   ]
  },
  {
   "cell_type": "code",
   "execution_count": 4,
   "metadata": {},
   "outputs": [],
   "source": [
    "def parse_data(filename):\n",
    "    if not filename:\n",
    "        raise ValueError(\"filename is empty.\")\n",
    "    \n",
    "    import string\n",
    "    \n",
    "    with open(filename) as f:\n",
    "        content = f.readlines()  # read lines from filename\n",
    "        content = [x.strip() for x in content]\n",
    "        exclude = set(string.punctuation)\n",
    "        tuples = list()\n",
    "        \n",
    "    for line in content:\n",
    "        id, article = line.split(\" \", 1)\n",
    "        article = ''.join(ch for ch in article if ch not in exclude).replace(' ', '').lower()\n",
    "        tuples.append((id, article))  # construct tuple of id and text\n",
    "    return tuples "
   ]
  },
  {
   "cell_type": "code",
   "execution_count": 5,
   "metadata": {},
   "outputs": [],
   "source": [
    "def shingle_document(string, k):\n",
    "    if not string:\n",
    "        raise ValueError(\"String is empty.\")\n",
    "    if not k:\n",
    "        raise ValueError(\"k is empty.\")\n",
    "    \n",
    "    import binascii\n",
    "    \n",
    "    unique_hash = set() # initialize set data structure\n",
    "    for i in range(0, len(string) - k + 1):\n",
    "        unique_hash.add(binascii.crc32(string[i:i+k].encode(\"utf-8\"))) # has substring into 32-bit integer\n",
    "        \n",
    "    return unique_hash"
   ]
  },
  {
   "cell_type": "code",
   "execution_count": 6,
   "metadata": {},
   "outputs": [],
   "source": [
    "########################\n",
    "# test parse_data()\n",
    "dd = parse_data(TRAIN)"
   ]
  },
  {
   "cell_type": "code",
   "execution_count": 7,
   "metadata": {},
   "outputs": [],
   "source": [
    "def shingled_list(document):\n",
    "    shingled_list = list()\n",
    "    for d in document:\n",
    "        shingled_list.append((d[0], shingle_document(d[1], 10))) # shingle_document()\n",
    "    return shingled_list"
   ]
  },
  {
   "cell_type": "code",
   "execution_count": 8,
   "metadata": {},
   "outputs": [],
   "source": [
    "########################\n",
    "# test shingled_list()\n",
    "shingled_dd = shingled_list(dd)"
   ]
  },
  {
   "cell_type": "code",
   "execution_count": 9,
   "metadata": {},
   "outputs": [],
   "source": [
    "def jaccard(a, b):\n",
    "    if not a:\n",
    "        raise ValueError(\"a is empty.\")\n",
    "    if not b:\n",
    "        raise ValueError(\"b is empty.\")\n",
    "        \n",
    "    a = set(a)\n",
    "    b = set(b)\n",
    "\n",
    "    return len(a.intersection(b))/len(a.union(b)) # return raio of union and intersection"
   ]
  },
  {
   "cell_type": "code",
   "execution_count": 10,
   "metadata": {},
   "outputs": [],
   "source": [
    "def similarity(filename, k):\n",
    "    if not filename:\n",
    "        raise ValueError(\"filename is empty.\")\n",
    "    if not k:\n",
    "        raise ValueError(\"k is empty.\")\n",
    "        \n",
    "    tuples = parse_data(filename)  # parse a file with data\n",
    "    tuples_js = list()\n",
    "\n",
    "    n = len(tuples)\n",
    "\n",
    "    for i in range(0, n - 1):\n",
    "        id_i, article_i = tuples[i]\n",
    "        if k > len(article_i):\n",
    "            raise ValueError(\"k is out of bound.\")\n",
    "\n",
    "        for j in range(i + 1, n):\n",
    "            id_j, article_j = tuples[j]\n",
    "            if k > len(article_j):\n",
    "                raise ValueError(\"k is out of bound.\")\n",
    "\n",
    "            s = jaccard(shingle_document(article_i, k), shingle_document(article_j, k)) # shingle_document()\n",
    "            tuples_js.append((id_i, id_j, s))\n",
    "    \n",
    "    return tuples_js # return a list of tuples, each tuple contains: (id1, id2, s)"
   ]
  },
  {
   "cell_type": "code",
   "execution_count": 11,
   "metadata": {},
   "outputs": [],
   "source": [
    "########################\n",
    "# test similarity()\n",
    "# similarity(TRAIN, 10)"
   ]
  },
  {
   "cell_type": "code",
   "execution_count": 12,
   "metadata": {},
   "outputs": [],
   "source": [
    "# inversion\n",
    "def _invert_shingles(shingled_documents): # input a list of tuples of form (id, [items])\n",
    "    if not shingled_documents:\n",
    "        raise ValueError(\"filename is empty\")\n",
    "        \n",
    "    tuples = list() # initialize list for tuples\n",
    "\n",
    "    for row in shingled_documents:\n",
    "        for item in row[1]:\n",
    "            tuples.append((item, row[0]))\n",
    "    return tuples"
   ]
  },
  {
   "cell_type": "code",
   "execution_count": 13,
   "metadata": {},
   "outputs": [],
   "source": [
    " def getKey(item):\n",
    "        return item[0]"
   ]
  },
  {
   "cell_type": "code",
   "execution_count": 14,
   "metadata": {},
   "outputs": [],
   "source": [
    "# sorting\n",
    "def invert_shingles(shingled_documents):\n",
    "    if not shingled_documents:\n",
    "        raise ValueError(\"filename is empty\")\n",
    "    tuples = list()\n",
    "    ids = list() # initialize list for document ids\n",
    "    \n",
    "    for row in shingled_documents:\n",
    "        ids.append(row[0])\n",
    "        \n",
    "    tuples = sorted(_invert_shingles(shingled_documents), key = getKey) # invert_shingles_(), getKey()\n",
    "\n",
    "    return tuples, ids"
   ]
  },
  {
   "cell_type": "code",
   "execution_count": 15,
   "metadata": {},
   "outputs": [],
   "source": [
    "############################\n",
    "# test invert_shingles()\n",
    "inverted = invert_shingles(shingled_dd)"
   ]
  },
  {
   "cell_type": "code",
   "execution_count": 16,
   "metadata": {},
   "outputs": [],
   "source": [
    "# generate hash functions\n",
    "import random        \n",
    "\n",
    "def make_random_hash_fn(p=2**33-355, m=4294967295):\n",
    "    a = random.randint(1,p-1)\n",
    "    b = random.randint(0, p-1)\n",
    "    return lambda x: ((a * x + b) % p) % m\n",
    "\n",
    "def make_hashes(num_hash):\n",
    "    hash_fns = list() # initialize list for hash functions\n",
    "    \n",
    "    for i in range(0, num_hash):\n",
    "        hash_fns.append(make_random_hash_fn()) # make_random_hash_fn()\n",
    "        \n",
    "    return hash_fns"
   ]
  },
  {
   "cell_type": "code",
   "execution_count": 17,
   "metadata": {},
   "outputs": [],
   "source": [
    "def make_minhash_signature(shingled_data, num_hashes):\n",
    "    inv_index, docids = invert_shingles(shingled_data) # invert_shingles()\n",
    "    num_docs = len(docids)\n",
    "\n",
    "    # print(inv_index)\n",
    "    # print(type(inv_index))\n",
    "    # print(len(inv_index))\n",
    "    # print(len(inv_index[0]))\n",
    "    \n",
    "    docid_col_map = docid_map(docids) # docid_map\n",
    "    # print(docid_col_map)\n",
    "    \n",
    "    unique_items = {item[0] for item in inv_index}\n",
    "    sorted_unique_items = sorted(unique_items)\n",
    "  \n",
    "    # initialize the signature matrix with infinity in every entry\n",
    "    sigmatrix = np.full([num_hashes, num_docs], np.inf)\n",
    "    \n",
    "    # generate hash functions\n",
    "    hash_funcs = make_hashes(num_hashes) # make_hashes()\n",
    "    \n",
    "    # iterate over each non-zero entry of the characteristic matrix\n",
    "    # docid locates in both characteristics matrix and signature matrix\n",
    "    # row retains the row index value\n",
    "    # use the same hash functions calculate through rows with the same docid and put the minimum value into sigmatrix\n",
    "\n",
    "    for row, docid in inv_index:\n",
    "        # i = row_map[row] # index of rows\n",
    "        j = docid_col_map[docid] # index of columes\n",
    "        for n in range(0, num_hashes):\n",
    "            sigmatrix[n][j]= min(hash_funcs[n](row), sigmatrix[n][j]) # why don't we add % len(sorted_unique_items)?\n",
    "    \n",
    "    return sigmatrix"
   ]
  },
  {
   "cell_type": "code",
   "execution_count": 18,
   "metadata": {},
   "outputs": [],
   "source": [
    "########################\n",
    "# test make_minhash_signature()\n",
    "minhash_sigmat = make_minhash_signature(shingled_dd, 2)"
   ]
  },
  {
   "cell_type": "code",
   "execution_count": 19,
   "metadata": {},
   "outputs": [],
   "source": [
    "def minhash_similarity(id1, id2, minhash_sigmat):\n",
    "\n",
    "    similarity = 0\n",
    "    \n",
    "    for i in range(0, len(minhash_sigmat)):\n",
    "        if  minhash_sigmat[i][id1] == minhash_sigmat[i][id2]:\n",
    "            similarity = similarity + 1\n",
    "    \n",
    "    return similarity/len(minhash_sigmat)"
   ]
  },
  {
   "cell_type": "code",
   "execution_count": 20,
   "metadata": {},
   "outputs": [],
   "source": [
    "########################\n",
    "# test minhash_similarity()\n",
    "# minhash_similarity(0, 0, minhash_sigmat)"
   ]
  },
  {
   "cell_type": "code",
   "execution_count": 21,
   "metadata": {},
   "outputs": [],
   "source": [
    "def minhash_similarity_all(shingled_doc, num_hashes):\n",
    "    inv_index, docids = invert_shingles(shingled_doc) # invert_shingles()\n",
    "    \n",
    "    MinHash_Matrix = np.zeros((len(docids), len(docids)))\n",
    "    tuples = list()\n",
    "    \n",
    "    minhash_sigmat = make_minhash_signature(shingled_dd, num_hashes) # make_minhash_signature()\n",
    "    \n",
    "    docid_col_map = docid_map(docids) # docid_map()\n",
    "    # print(docid_col_map)\n",
    "    \n",
    "    for d1 in docids:\n",
    "        i = docid_col_map[d1]\n",
    "        for d2 in docids:\n",
    "            j = docid_col_map[d2]\n",
    "            if i < j:\n",
    "                MinHash_Matrix[i][j] = minhash_similarity(i, j, minhash_sigmat) # minhash_similarity()\n",
    "                tuples.append((d1, d2, MinHash_Matrix[i][j]))\n",
    "            \n",
    "    return MinHash_Matrix, tuples"
   ]
  },
  {
   "cell_type": "code",
   "execution_count": 22,
   "metadata": {},
   "outputs": [],
   "source": [
    "########################\n",
    "# test minhash_similarity_all()\n",
    "# minhash_similarity_all = minhash_similarity_all(shingled_dd, 50)"
   ]
  },
  {
   "cell_type": "code",
   "execution_count": 23,
   "metadata": {},
   "outputs": [],
   "source": [
    "# minhash_similarity_matrix = minhash_similarity_all[0] \n",
    "# minhash_similarity_tuples = minhash_similarity_all[1]"
   ]
  },
  {
   "cell_type": "code",
   "execution_count": 24,
   "metadata": {},
   "outputs": [],
   "source": [
    "########################\n",
    "# check for consistency\n",
    "# print(minhash_similarity_matrix)\n",
    "# print(minhash_similarity_tuples)"
   ]
  },
  {
   "cell_type": "code",
   "execution_count": 25,
   "metadata": {},
   "outputs": [],
   "source": [
    "jaccard_similarity_tuples = similarity(TRAIN, 10)\n",
    "js = pd.DataFrame(jaccard_similarity_tuples)"
   ]
  },
  {
   "cell_type": "code",
   "execution_count": 26,
   "metadata": {},
   "outputs": [],
   "source": [
    "js.columns = [\"id1\", \"id2\", \"js\"]"
   ]
  },
  {
   "cell_type": "code",
   "execution_count": 27,
   "metadata": {},
   "outputs": [],
   "source": [
    "num_hashes = 100\n",
    "\n",
    "dt = list()\n",
    "    \n",
    "for k in range(1, num_hashes + 1):\n",
    "    \n",
    "    # compare jaccard_similarity_tuples and minhash_similarity_tuples    \n",
    "    minhash_similarity_tuples = minhash_similarity_all(shingled_dd, k)[1]\n",
    "    mh = pd.DataFrame(minhash_similarity_tuples)\n",
    "    mh.columns = [\"id1\", \"id2\", \"mh\"]\n",
    "    \n",
    "    # all_tuples = jaccard_similarity_tuples + minhash_similarity_tuples \n",
    "    # data[k-1] = (len(all_tuples) - len(set(all_tuples)))/len(jaccard_similarity_tuples)\n",
    "       \n",
    "    # use min squared error\n",
    "    df = pd.merge(js, mh, on = [\"id1\", \"id2\"])\n",
    "    df[\"diff\"] = (df.js - df.mh) ** 2\n",
    "    mse = df[\"diff\"].sum()\n",
    "    rmse = math.sqrt(mse/len(df))\n",
    "    fraction = np.mean(js.js == mh.mh)\n",
    "    num = k\n",
    "    dt.append((num, rmse, fraction))\n",
    "\n",
    "dt = pd.DataFrame(dt, columns = [\"num\", \"rmse\", \"fraction\"])"
   ]
  },
  {
   "cell_type": "code",
   "execution_count": 30,
   "metadata": {},
   "outputs": [
    {
     "data": {
      "image/png": "[encoded data removed]",
      "text/plain": [
       "<Figure size 432x288 with 1 Axes>"
      ]
     },
     "metadata": {},
     "output_type": "display_data"
    }
   ],
   "source": [
    "plt.plot(dt.num, dt.rmse, color = \"blue\")\n",
    "plt.title(\"RMSE of Jaccard Similarity and MinHash Similarity\")\n",
    "plt.xlabel(\"Number of Hash Functions\")\n",
    "plt.ylabel(\"Root Mean Squared Error\")\n",
    "plt.show()"
   ]
  },
  {
   "cell_type": "markdown",
   "metadata": {},
   "source": [
    "#### What is the effect of the number of hash functions used to compute the Minhash signature on the accuracy of the Minhash estimate of Jaccard similarity. \n",
    "\n",
    "### My thoughts:\n",
    "#### 1. It is known to all that the probability of two min-hash values equalling is the Jaccard similarity for that two documents. However, the realization of the probability could be very different. Therefore, we are estimating Jaccard similarity instead of calculating it. Given the law of large numbers, we expect that with more experiements, which are hash functions in our case, we will have a better estimation which is closer to the expected value, namely a better accuracy of the Minhash estimate of Jaccard similarity.\n",
    "\n",
    "#### 2. After calculating the Root Mean Squared Error (RMSE) of Jaccard Similarity and MinHash Similarity, it is obvious that as the number of hash functions increases, the accurary of Minhash estimate of Jaccard similarity increases. We can see that the most dramatic decrease of RMSE happens around number of hash functions equaling to 5, and after the number of hash functions hits 60, RMSE levels out."
   ]
  }
 ],
 "metadata": {
  "kernelspec": {
   "display_name": "Python 3",
   "language": "python",
   "name": "python3"
  },
  "language_info": {
   "codemirror_mode": {
    "name": "ipython",
    "version": 3
   },
   "file_extension": ".py",
   "mimetype": "text/x-python",
   "name": "python",
   "nbconvert_exporter": "python",
   "pygments_lexer": "ipython3",
   "version": "3.6.5"
  }
 },
 "nbformat": 4,
 "nbformat_minor": 2
}

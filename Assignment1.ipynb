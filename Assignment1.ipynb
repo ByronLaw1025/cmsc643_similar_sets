{
 "cells": [
  {
   "cell_type": "code",
   "execution_count": 1,
   "metadata": {},
   "outputs": [],
   "source": [
    "import os\n",
    "from os import getcwd\n",
    "TRAIN = os.path.join(getcwd(), 'MinHash/data/articles_1000.train')\n",
    "TRUTH = os.path.join(getcwd(), 'MinHash/data/articles_1000.truth')"
   ]
  },
  {
   "cell_type": "code",
   "execution_count": 2,
   "metadata": {},
   "outputs": [],
   "source": [
    "import numpy as np\n",
    "import string"
   ]
  },
  {
   "cell_type": "code",
   "execution_count": 3,
   "metadata": {},
   "outputs": [],
   "source": [
    "def parse_data(filename):\n",
    "    if not filename:\n",
    "        raise ValueError(\"filename is empty.\")\n",
    "    \n",
    "    with open(filename) as f:\n",
    "        content = f.readlines()  # read lines from filename\n",
    "        content = [x.strip() for x in content]\n",
    "        exclude = set(string.punctuation)\n",
    "        tuples = list()\n",
    "        \n",
    "    for line in content:\n",
    "        id, article = line.split(\" \", 1)\n",
    "        article = ''.join(ch for ch in article if ch not in exclude).replace(' ', '').lower()\n",
    "        tuples.append((id, article))  # construct tuple of id and text\n",
    "        \n",
    "    return tuples "
   ]
  },
  {
   "cell_type": "code",
   "execution_count": 4,
   "metadata": {},
   "outputs": [],
   "source": [
    "def shingle_document(string, k):\n",
    "    if not string:\n",
    "        raise ValueError(\"String is empty.\")\n",
    "    if not k:\n",
    "        raise ValueError(\"k is empty.\")\n",
    "    \n",
    "    import binascii\n",
    "    \n",
    "    unique_hash = set() # initialize set data structure\n",
    "    for i in range(0, len(string) - k + 1):\n",
    "        unique_hash.add(binascii.crc32(string[i:i+k].encode(\"utf-8\"))) # has substring into 32-bit integer\n",
    "        \n",
    "    return unique_hash"
   ]
  },
  {
   "cell_type": "code",
   "execution_count": 5,
   "metadata": {},
   "outputs": [],
   "source": [
    "def jaccard(a, b):\n",
    "    if not a:\n",
    "        raise ValueError(\"a is empty.\")\n",
    "    if not b:\n",
    "        raise ValueError(\"b is empty.\")\n",
    "        \n",
    "    a = set(a)\n",
    "    b = set(b)\n",
    "\n",
    "    return len(a.intersection(b))/len(a.union(b)) # return raio of union and intersection"
   ]
  },
  {
   "cell_type": "code",
   "execution_count": 6,
   "metadata": {},
   "outputs": [],
   "source": [
    "def similarity(filename, k):\n",
    "    if not filename:\n",
    "        raise ValueError(\"filename is empty.\")\n",
    "    if not k:\n",
    "        raise ValueError(\"k is empty.\")\n",
    "        \n",
    "    tuples = parse_data(filename)  # parse a file with data\n",
    "    tuples_js = list()\n",
    "\n",
    "    n = len(tuples)\n",
    "\n",
    "    for i in range(0, n - 1):\n",
    "        id_i, article_i = tuples[i]\n",
    "        \n",
    "        if k > len(article_i):\n",
    "            raise ValueError(\"k is out of bound.\")\n",
    "\n",
    "        for j in range(i + 1, n):\n",
    "            id_j, article_j = tuples[j]\n",
    "            \n",
    "            if k > len(article_j):\n",
    "                raise ValueError(\"k is out of bound.\")\n",
    "\n",
    "            s = jaccard(shingle_document(article_i, k), shingle_document(article_j, k))\n",
    "            tuples_js.append((id_i, id_j, s))\n",
    "            \n",
    "    return tuples_js # return a list of tuples, each tuple contains: (id1, id2, s)"
   ]
  },
  {
   "cell_type": "code",
   "execution_count": 15,
   "metadata": {},
   "outputs": [],
   "source": [
    "def get_mean_table(train, truth, n):\n",
    "    \n",
    "    if not train:\n",
    "        raise ValueError(\"train data is empty.\")\n",
    "    if not truth:\n",
    "        raise ValueError(\"truth data is empty.\")\n",
    "    if not n:\n",
    "        raise ValueError(\"n is empty.\")\n",
    "    \n",
    "    mytruth = parse_data(truth) # parse_data(), my truth is a pair of document ids   \n",
    "    tuples  = list()\n",
    "    \n",
    "    for k in range(1, n + 1):\n",
    "        \n",
    "        js = similarity(train, k) # similarity\n",
    "        abbr_dict = {tuple(item[0:2]): item[2] for item in js} # (id1, id2) is key, js is content.\n",
    "        sum_train, sum_truth = 0, 0\n",
    "        \n",
    "        for j in range(0, len(mytruth)-1):\n",
    "            sum_truth = abbr_dict[(mytruth[j])] + sum_truth # from dictionary we get js of key of (id1, id2)\n",
    "            \n",
    "        mean_truth = sum_truth/len(mytruth)\n",
    "        \n",
    "        for i in range(0, len(js)-1): \n",
    "            sum_train = js[i][2] + sum_train\n",
    "            \n",
    "        mean_train = (sum_train - sum_truth) / (len(js) - len(mytruth)) # (sum of train js - sum of truth js)/# of js\n",
    "        tuples.append((k, mean_train, mean_truth))\n",
    "        \n",
    "    return tuples"
   ]
  },
  {
   "cell_type": "code",
   "execution_count": 8,
   "metadata": {},
   "outputs": [],
   "source": [
    "def plot_mean_table(filename1, filename2, n):\n",
    "    if not filename1:\n",
    "        raise ValueError(\"filename1 is empty.\")\n",
    "    if not filename2:\n",
    "        raise ValueError(\"filename2 is empty.\")\n",
    "    if not n:\n",
    "        raise ValueError(\"n is empty.\")\n",
    "    \n",
    "    import matplotlib.pyplot as plt\n",
    "    import pandas as pd\n",
    "    \n",
    "    mean_table = get_mean_table(filename1, filename2, n)\n",
    "    df         = pd.DataFrame(mean_table)\n",
    "    df.columns = [\"k\", \"non-plagiarism instances\", \"plagiarism instances\"]\n",
    "    \n",
    "    plt.plot('k', 'non-plagiarism instances', data = df, color = 'green')\n",
    "    plt.plot('k', 'plagiarism instances',     data = df, color = 'red')\n",
    "    \n",
    "    plt.xlabel('k value')\n",
    "    plt.ylabel('average Jaccard similarity')\n",
    "    \n",
    "    plt.title('Plagiarism and Non-Plagiarism Articles\\'\\nJaccard Similarity Comparison\\n')\n",
    "    plt.legend()\n",
    "    plt.show()\n",
    "    \n",
    "    pass"
   ]
  },
  {
   "cell_type": "code",
   "execution_count": 17,
   "metadata": {
    "scrolled": true
   },
   "outputs": [
    {
     "data": {
      "image/png": "[encoded data removed]",
      "text/plain": [
       "<Figure size 432x288 with 1 Axes>"
      ]
     },
     "metadata": {},
     "output_type": "display_data"
    }
   ],
   "source": [
    "plot_mean_table(TRAIN, TRUTH, 100)"
   ]
  },
  {
   "cell_type": "markdown",
   "metadata": {},
   "source": [
    "#### What is the effect of sharding length k on the Jaccard similarity of plagiarism instances versus instances that are not plagiarized?\n",
    "\n",
    "### My thoughts:\n",
    "#### 1. The effect of sharding length k on the Jaccard similarity of plagiarism instantces is far less stronger than that on the Jaccard similarity of non-plagiarism instance. ######\n",
    "\n",
    "#### 2. Jaccard similarity of non-plagiarism instances increases dramatically when the length k is sharded from a small value to a smaller one, while that of plagiarism instances doesn't change much within the scope of length k."
   ]
  }
 ],
 "metadata": {
  "kernelspec": {
   "display_name": "Python 3",
   "language": "python",
   "name": "python3"
  },
  "language_info": {
   "codemirror_mode": {
    "name": "ipython",
    "version": 3
   },
   "file_extension": ".py",
   "mimetype": "text/x-python",
   "name": "python",
   "nbconvert_exporter": "python",
   "pygments_lexer": "ipython3",
   "version": "3.6.5"
  }
 },
 "nbformat": 4,
 "nbformat_minor": 2
}

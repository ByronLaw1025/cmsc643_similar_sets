{
 "cells": [
  {
   "cell_type": "code",
   "execution_count": 1,
   "metadata": {},
   "outputs": [],
   "source": [
    "n = 10000 # narticle\n",
    "num_hashes = 100 # signature matrix \n",
    "k = 10 # shingle"
   ]
  },
  {
   "cell_type": "code",
   "execution_count": 2,
   "metadata": {},
   "outputs": [],
   "source": [
    "import os\n",
    "import random     \n",
    "import numpy as np\n",
    "import pandas as pd\n",
    "import matplotlib.pyplot as plt\n",
    "import itertools"
   ]
  },
  {
   "cell_type": "code",
   "execution_count": 3,
   "metadata": {},
   "outputs": [],
   "source": [
    "from os import getcwd\n",
    "TRAIN = os.path.join(getcwd(), 'MinHash/data/articles_'+ str(n) +'.train')\n",
    "TRUTH = os.path.join(getcwd(), 'MinHash/data/articles_'+ str(n) +'.truth')"
   ]
  },
  {
   "cell_type": "code",
   "execution_count": 4,
   "metadata": {},
   "outputs": [],
   "source": [
    "def make_random_hash_fn(p=2**33-355, m=4294967295):\n",
    "    a = random.randint(1,p-1)\n",
    "    b = random.randint(0, p-1)\n",
    "    return lambda x: ((a * x + b) % p) % m\n",
    "\n",
    "def make_hashes(num_hash):\n",
    "    hash_fns = list() # initialize list for hash functions\n",
    "    \n",
    "    for i in range(0, num_hash):\n",
    "        hash_fns.append(make_random_hash_fn()) # make_random_hash_fn()\n",
    "        \n",
    "    return hash_fns"
   ]
  },
  {
   "cell_type": "code",
   "execution_count": 5,
   "metadata": {},
   "outputs": [],
   "source": [
    "def parse_data(filename):\n",
    "    if not filename:\n",
    "        raise ValueError(\"filename is empty.\")\n",
    "    \n",
    "    import string\n",
    "    \n",
    "    with open(filename) as f:\n",
    "        content = f.readlines()  # read lines from filename\n",
    "        content = [x.strip() for x in content]\n",
    "        exclude = set(string.punctuation)\n",
    "        tuples = list()\n",
    "        \n",
    "    for line in content:\n",
    "        id, article = line.split(\" \", 1)\n",
    "        article = ''.join(ch for ch in article if ch not in exclude).replace(' ', '').lower()\n",
    "        tuples.append((id, article))  # construct tuple of id and text\n",
    "    return tuples "
   ]
  },
  {
   "cell_type": "code",
   "execution_count": 6,
   "metadata": {},
   "outputs": [],
   "source": [
    "train = parse_data(TRAIN)"
   ]
  },
  {
   "cell_type": "code",
   "execution_count": 7,
   "metadata": {},
   "outputs": [],
   "source": [
    "def shingle_document(string, k):\n",
    "    if not string:\n",
    "        raise ValueError(\"String is empty.\")\n",
    "    if not k:\n",
    "        raise ValueError(\"k is empty.\")\n",
    "    \n",
    "    import binascii\n",
    "    \n",
    "    unique_hash = set() # initialize set data structure\n",
    "    for i in range(0, len(string) - k + 1):\n",
    "        unique_hash.add(binascii.crc32(string[i:i+k].encode(\"utf-8\"))) # hash substring into 32-bit integer\n",
    "        \n",
    "    return unique_hash"
   ]
  },
  {
   "cell_type": "code",
   "execution_count": 8,
   "metadata": {},
   "outputs": [],
   "source": [
    "def shingled_list(document):\n",
    "    shingled_list = list()\n",
    "    for d in document:\n",
    "        shingled_list.append((d[0], shingle_document(d[1], k))) # shingle_document()\n",
    "    return shingled_list"
   ]
  },
  {
   "cell_type": "code",
   "execution_count": 9,
   "metadata": {},
   "outputs": [],
   "source": [
    "train_shingled = shingled_list(train)"
   ]
  },
  {
   "cell_type": "code",
   "execution_count": 10,
   "metadata": {},
   "outputs": [],
   "source": [
    " def getKey(item):\n",
    "        return item[0]"
   ]
  },
  {
   "cell_type": "code",
   "execution_count": 11,
   "metadata": {},
   "outputs": [],
   "source": [
    "def invert_shingles(shingled_documents): # input a list of tuples of form (id, [item])\n",
    "    if not shingled_documents:\n",
    "        raise ValueError(\"filename is empty\")\n",
    "        \n",
    "    tuples = list() # initialize list for tuples\n",
    "    ids = list() # initialize list for document ids\n",
    "    \n",
    "    for row in shingled_documents:\n",
    "        ids.append(row[0])\n",
    "        for item in row[1]:\n",
    "            tuples.append((item, row[0]))\n",
    "            \n",
    "    sorted_tuples = sorted(tuples, key = getKey) # getKey()\n",
    "    \n",
    "    return sorted_tuples, ids"
   ]
  },
  {
   "cell_type": "code",
   "execution_count": 12,
   "metadata": {},
   "outputs": [],
   "source": [
    "def docid_map(docids):\n",
    "    docid_col_map = dict()\n",
    "    for i in range(0, len(docids)):\n",
    "        docid_col_map[docids[i]] = i\n",
    "    return docid_col_map  "
   ]
  },
  {
   "cell_type": "code",
   "execution_count": 13,
   "metadata": {},
   "outputs": [],
   "source": [
    "def make_minhash_signature(shingled_data, num_hashes):\n",
    "    inv_index, docids = invert_shingles(shingled_data) # invert_shingles()\n",
    "    num_docs = len(docids)\n",
    "    \n",
    "    docid_col_map = docid_map(docids) # docid_map()\n",
    "    \n",
    "    unique_items = {item[0] for item in inv_index}\n",
    "    sorted_unique_items = sorted(unique_items)\n",
    "  \n",
    "    # initialize the signature matrix with infinity in every entry\n",
    "    sigmatrix = np.full([num_hashes, num_docs], np.inf)\n",
    "    \n",
    "    # generate hash functions\n",
    "    hash_funcs = make_hashes(num_hashes) # make_hashes()\n",
    "\n",
    "    for row, docid in inv_index:\n",
    "        # i = row_map[row] # index of rows\n",
    "        j = docid_col_map[docid] # index of columes\n",
    "        for n in range(0, num_hashes):\n",
    "            sigmatrix[n][j]= min(hash_funcs[n](row), sigmatrix[n][j])\n",
    "    \n",
    "    return sigmatrix, docids, docid_col_map"
   ]
  },
  {
   "cell_type": "code",
   "execution_count": 14,
   "metadata": {},
   "outputs": [],
   "source": [
    "train_sigmatrix, docids, docid_col_map = make_minhash_signature(train_shingled, num_hashes)"
   ]
  },
  {
   "cell_type": "code",
   "execution_count": 15,
   "metadata": {},
   "outputs": [],
   "source": [
    "# function to generate hash funciton for vectors\n",
    "\n",
    "def _make_vector_hash(num_hashes, m=4294967295):\n",
    "    hash_fns = make_hashes(num_hashes)\n",
    "    def _f(vec):\n",
    "        acc = 0\n",
    "        for i in range(len(vec)):\n",
    "            h = hash_fns[i]\n",
    "            acc += h(vec[i])\n",
    "        return acc % m\n",
    "    return _f"
   ]
  },
  {
   "cell_type": "code",
   "execution_count": 16,
   "metadata": {},
   "outputs": [],
   "source": [
    "# choose the number of bands to use \n",
    "\n",
    "import scipy.optimize as opt\n",
    "import math\n",
    "\n",
    "def _choose_nbands(t, n):\n",
    "    \n",
    "    def _error_fun(x):\n",
    "        cur_t = (1/x[0])**(x[0]/n)\n",
    "        return (t-cur_t)**2\n",
    "    \n",
    "    opt_res = opt.minimize(_error_fun, x0=(10), method='Nelder-Mead')\n",
    "    b = int(math.ceil(opt_res['x'][0]))\n",
    "    r = int(n / b)\n",
    "    final_t = (1/b)**(1/r)\n",
    "    return b, final_t"
   ]
  },
  {
   "cell_type": "code",
   "execution_count": 17,
   "metadata": {},
   "outputs": [],
   "source": [
    "from collections import defaultdict\n",
    "\n",
    "# locality sensitive hashing\n",
    "def do_lsh(minhash_sigmatrix, numhashes, docids, threshold):\n",
    "    \n",
    "    b, _ = _choose_nbands(threshold, numhashes) # choose_nbands()\n",
    "    r = int(numhashes / b)\n",
    "    \n",
    "    hash_func = _make_vector_hash(r) # _make_vector_hash()\n",
    "\n",
    "    # initialize a list() of hashtables, will be populated with one hash table per band\n",
    "    buckets = [] \n",
    "\n",
    "    # fill hash tables for each band\n",
    "    for band in range(b):\n",
    "       \n",
    "        # figure out which rows of minhash signature matrix to hash for this band\n",
    "        start_index = int(band * r)\n",
    "        end_index = min(start_index + r, numhashes) # keep it in bound\n",
    "        \n",
    "        # initialize hashtable for this band\n",
    "        cur_buckets = defaultdict(list) # defaultdict() list default\n",
    "        \n",
    "        for j in range(len(docids)):\n",
    "            hashes = minhash_sigmatrix[start_index:end_index, j]\n",
    "            cur_buckets[hash_func(hashes)].append(j)\n",
    "        \n",
    "        # add this hashtable to the list of hashtables \n",
    "        buckets.append(cur_buckets) # key value pair\n",
    "        \n",
    "    return buckets"
   ]
  },
  {
   "cell_type": "code",
   "execution_count": 18,
   "metadata": {},
   "outputs": [],
   "source": [
    "def find_pairs(buckets):\n",
    "    \n",
    "    pair_list = list()\n",
    "    pair_tuple = list()\n",
    "    for row in buckets:\n",
    "        all = [x for x in row.values() if len(x) > 1]\n",
    "        \n",
    "        for ind in all:\n",
    "            pair_tuple.extend(list(itertools.combinations(tuple(ind), 2)))\n",
    "            \n",
    "        return set(pair_tuple)"
   ]
  },
  {
   "cell_type": "code",
   "execution_count": 19,
   "metadata": {},
   "outputs": [],
   "source": [
    "truth = parse_data(TRUTH)\n",
    "truth_map = list()\n",
    "for row in truth:\n",
    "    i = docid_col_map[row[0]]\n",
    "    j = docid_col_map[row[1]]\n",
    "    truth_map.append((i, j))"
   ]
  },
  {
   "cell_type": "code",
   "execution_count": 25,
   "metadata": {},
   "outputs": [],
   "source": [
    "def test_threshold(threshold):\n",
    "    tuples = list()\n",
    "    r = 2\n",
    "    \n",
    "    for t in np.arange(0.1, threshold, 0.05):\n",
    "        \n",
    "        buckets = do_lsh(train_sigmatrix, len(train_sigmatrix), docids, t)\n",
    "        predicted = list(find_pairs(buckets))\n",
    "        \n",
    "        print(\"threshold = \" + str(t))\n",
    "        print(\"Len of Predicted: \" + str(len(predicted)))\n",
    "        print(\"Len of Truth: \" + str(len(truth_map)))\n",
    "        \n",
    "        TP = len([x for x in truth_map if x in predicted])\n",
    "        print(\"TP = \" + str(TP))\n",
    "        \n",
    "        FP = len(predicted) - TP\n",
    "        print(\"FP = \" + str(FP))\n",
    "        \n",
    "        ALL = math.factorial(n)/(math.factorial(n-r)*math.factorial(r))\n",
    "        \n",
    "        TN =  ALL - len(predicted) - len(truth_map) + TP\n",
    "        print(\"TN = \" + str(TN))\n",
    "        \n",
    "        FN = len(truth_map) - TP\n",
    "        print(\"FN = \" + str(FN))\n",
    "        \n",
    "        sensitivity = TP/(TP + FN) # TP/(TP + FN)\n",
    "        specificity = TN/(TN + FP) # TN/(TN + FP)\n",
    "        \n",
    "        tuples.append((t, sensitivity, specificity))\n",
    "        \n",
    "    return tuples"
   ]
  },
  {
   "cell_type": "code",
   "execution_count": 26,
   "metadata": {},
   "outputs": [
    {
     "name": "stdout",
     "output_type": "stream",
     "text": [
      "threshold = 0.1\n",
      "Len of Predicted: 283383\n",
      "Len of Truth: 80\n",
      "TP = 39\n",
      "FP = 283344\n",
      "TN = 49711576.0\n",
      "FN = 41\n",
      "threshold = 0.15000000000000002\n",
      "Len of Predicted: 2442\n",
      "Len of Truth: 80\n",
      "TP = 39\n",
      "FP = 2403\n",
      "TN = 49992517.0\n",
      "FN = 41\n",
      "threshold = 0.20000000000000004\n",
      "Len of Predicted: 2442\n",
      "Len of Truth: 80\n",
      "TP = 39\n",
      "FP = 2403\n",
      "TN = 49992517.0\n",
      "FN = 41\n",
      "threshold = 0.25000000000000006\n",
      "Len of Predicted: 2442\n",
      "Len of Truth: 80\n",
      "TP = 39\n",
      "FP = 2403\n",
      "TN = 49992517.0\n",
      "FN = 41\n",
      "threshold = 0.30000000000000004\n",
      "Len of Predicted: 2442\n",
      "Len of Truth: 80\n",
      "TP = 39\n",
      "FP = 2403\n",
      "TN = 49992517.0\n",
      "FN = 41\n",
      "threshold = 0.3500000000000001\n",
      "Len of Predicted: 105\n",
      "Len of Truth: 80\n",
      "TP = 38\n",
      "FP = 67\n",
      "TN = 49994853.0\n",
      "FN = 42\n",
      "threshold = 0.40000000000000013\n",
      "Len of Predicted: 105\n",
      "Len of Truth: 80\n",
      "TP = 38\n",
      "FP = 67\n",
      "TN = 49994853.0\n",
      "FN = 42\n",
      "threshold = 0.45000000000000007\n",
      "Len of Predicted: 77\n",
      "Len of Truth: 80\n",
      "TP = 38\n",
      "FP = 39\n",
      "TN = 49994881.0\n",
      "FN = 42\n",
      "threshold = 0.5000000000000001\n",
      "Len of Predicted: 77\n",
      "Len of Truth: 80\n",
      "TP = 38\n",
      "FP = 39\n",
      "TN = 49994881.0\n",
      "FN = 42\n",
      "threshold = 0.5500000000000002\n",
      "Len of Predicted: 76\n",
      "Len of Truth: 80\n",
      "TP = 38\n",
      "FP = 38\n",
      "TN = 49994882.0\n",
      "FN = 42\n",
      "threshold = 0.6000000000000002\n",
      "Len of Predicted: 76\n",
      "Len of Truth: 80\n",
      "TP = 38\n",
      "FP = 38\n",
      "TN = 49994882.0\n",
      "FN = 42\n",
      "threshold = 0.6500000000000001\n",
      "Len of Predicted: 75\n",
      "Len of Truth: 80\n",
      "TP = 37\n",
      "FP = 38\n",
      "TN = 49994882.0\n",
      "FN = 43\n",
      "threshold = 0.7000000000000002\n",
      "Len of Predicted: 74\n",
      "Len of Truth: 80\n",
      "TP = 36\n",
      "FP = 38\n",
      "TN = 49994882.0\n",
      "FN = 44\n",
      "threshold = 0.7500000000000002\n",
      "Len of Predicted: 74\n",
      "Len of Truth: 80\n",
      "TP = 36\n",
      "FP = 38\n",
      "TN = 49994882.0\n",
      "FN = 44\n",
      "threshold = 0.8000000000000002\n",
      "Len of Predicted: 72\n",
      "Len of Truth: 80\n",
      "TP = 35\n",
      "FP = 37\n",
      "TN = 49994883.0\n",
      "FN = 45\n",
      "threshold = 0.8500000000000002\n",
      "Len of Predicted: 71\n",
      "Len of Truth: 80\n",
      "TP = 35\n",
      "FP = 36\n",
      "TN = 49994884.0\n",
      "FN = 45\n",
      "threshold = 0.9000000000000002\n",
      "Len of Predicted: 71\n",
      "Len of Truth: 80\n",
      "TP = 35\n",
      "FP = 36\n",
      "TN = 49994884.0\n",
      "FN = 45\n"
     ]
    },
    {
     "name": "stderr",
     "output_type": "stream",
     "text": [
      "/anaconda3/lib/python3.6/site-packages/ipykernel_launcher.py:9: RuntimeWarning: invalid value encountered in double_scalars\n",
      "  if __name__ == '__main__':\n"
     ]
    },
    {
     "name": "stdout",
     "output_type": "stream",
     "text": [
      "threshold = 0.9500000000000003\n",
      "Len of Predicted: 67\n",
      "Len of Truth: 80\n",
      "TP = 32\n",
      "FP = 35\n",
      "TN = 49994885.0\n",
      "FN = 48\n"
     ]
    }
   ],
   "source": [
    "data = test_threshold(1)"
   ]
  },
  {
   "cell_type": "code",
   "execution_count": 27,
   "metadata": {},
   "outputs": [],
   "source": [
    "dt = pd.DataFrame(data, columns = [\"threshold\", \"sensitivity\", \"specificity\"])"
   ]
  },
  {
   "cell_type": "code",
   "execution_count": 28,
   "metadata": {},
   "outputs": [
    {
     "data": {
      "text/html": [
       "<div>\n",
       "<style scoped>\n",
       "    .dataframe tbody tr th:only-of-type {\n",
       "        vertical-align: middle;\n",
       "    }\n",
       "\n",
       "    .dataframe tbody tr th {\n",
       "        vertical-align: top;\n",
       "    }\n",
       "\n",
       "    .dataframe thead th {\n",
       "        text-align: right;\n",
       "    }\n",
       "</style>\n",
       "<table border=\"1\" class=\"dataframe\">\n",
       "  <thead>\n",
       "    <tr style=\"text-align: right;\">\n",
       "      <th></th>\n",
       "      <th>threshold</th>\n",
       "      <th>sensitivity</th>\n",
       "      <th>specificity</th>\n",
       "    </tr>\n",
       "  </thead>\n",
       "  <tbody>\n",
       "    <tr>\n",
       "      <th>0</th>\n",
       "      <td>0.10</td>\n",
       "      <td>0.4875</td>\n",
       "      <td>0.994333</td>\n",
       "    </tr>\n",
       "    <tr>\n",
       "      <th>1</th>\n",
       "      <td>0.15</td>\n",
       "      <td>0.4875</td>\n",
       "      <td>0.999952</td>\n",
       "    </tr>\n",
       "    <tr>\n",
       "      <th>2</th>\n",
       "      <td>0.20</td>\n",
       "      <td>0.4875</td>\n",
       "      <td>0.999952</td>\n",
       "    </tr>\n",
       "    <tr>\n",
       "      <th>3</th>\n",
       "      <td>0.25</td>\n",
       "      <td>0.4875</td>\n",
       "      <td>0.999952</td>\n",
       "    </tr>\n",
       "    <tr>\n",
       "      <th>4</th>\n",
       "      <td>0.30</td>\n",
       "      <td>0.4875</td>\n",
       "      <td>0.999952</td>\n",
       "    </tr>\n",
       "    <tr>\n",
       "      <th>5</th>\n",
       "      <td>0.35</td>\n",
       "      <td>0.4750</td>\n",
       "      <td>0.999999</td>\n",
       "    </tr>\n",
       "    <tr>\n",
       "      <th>6</th>\n",
       "      <td>0.40</td>\n",
       "      <td>0.4750</td>\n",
       "      <td>0.999999</td>\n",
       "    </tr>\n",
       "    <tr>\n",
       "      <th>7</th>\n",
       "      <td>0.45</td>\n",
       "      <td>0.4750</td>\n",
       "      <td>0.999999</td>\n",
       "    </tr>\n",
       "    <tr>\n",
       "      <th>8</th>\n",
       "      <td>0.50</td>\n",
       "      <td>0.4750</td>\n",
       "      <td>0.999999</td>\n",
       "    </tr>\n",
       "    <tr>\n",
       "      <th>9</th>\n",
       "      <td>0.55</td>\n",
       "      <td>0.4750</td>\n",
       "      <td>0.999999</td>\n",
       "    </tr>\n",
       "    <tr>\n",
       "      <th>10</th>\n",
       "      <td>0.60</td>\n",
       "      <td>0.4750</td>\n",
       "      <td>0.999999</td>\n",
       "    </tr>\n",
       "    <tr>\n",
       "      <th>11</th>\n",
       "      <td>0.65</td>\n",
       "      <td>0.4625</td>\n",
       "      <td>0.999999</td>\n",
       "    </tr>\n",
       "    <tr>\n",
       "      <th>12</th>\n",
       "      <td>0.70</td>\n",
       "      <td>0.4500</td>\n",
       "      <td>0.999999</td>\n",
       "    </tr>\n",
       "    <tr>\n",
       "      <th>13</th>\n",
       "      <td>0.75</td>\n",
       "      <td>0.4500</td>\n",
       "      <td>0.999999</td>\n",
       "    </tr>\n",
       "    <tr>\n",
       "      <th>14</th>\n",
       "      <td>0.80</td>\n",
       "      <td>0.4375</td>\n",
       "      <td>0.999999</td>\n",
       "    </tr>\n",
       "    <tr>\n",
       "      <th>15</th>\n",
       "      <td>0.85</td>\n",
       "      <td>0.4375</td>\n",
       "      <td>0.999999</td>\n",
       "    </tr>\n",
       "    <tr>\n",
       "      <th>16</th>\n",
       "      <td>0.90</td>\n",
       "      <td>0.4375</td>\n",
       "      <td>0.999999</td>\n",
       "    </tr>\n",
       "    <tr>\n",
       "      <th>17</th>\n",
       "      <td>0.95</td>\n",
       "      <td>0.4000</td>\n",
       "      <td>0.999999</td>\n",
       "    </tr>\n",
       "  </tbody>\n",
       "</table>\n",
       "</div>"
      ],
      "text/plain": [
       "    threshold  sensitivity  specificity\n",
       "0        0.10       0.4875     0.994333\n",
       "1        0.15       0.4875     0.999952\n",
       "2        0.20       0.4875     0.999952\n",
       "3        0.25       0.4875     0.999952\n",
       "4        0.30       0.4875     0.999952\n",
       "5        0.35       0.4750     0.999999\n",
       "6        0.40       0.4750     0.999999\n",
       "7        0.45       0.4750     0.999999\n",
       "8        0.50       0.4750     0.999999\n",
       "9        0.55       0.4750     0.999999\n",
       "10       0.60       0.4750     0.999999\n",
       "11       0.65       0.4625     0.999999\n",
       "12       0.70       0.4500     0.999999\n",
       "13       0.75       0.4500     0.999999\n",
       "14       0.80       0.4375     0.999999\n",
       "15       0.85       0.4375     0.999999\n",
       "16       0.90       0.4375     0.999999\n",
       "17       0.95       0.4000     0.999999"
      ]
     },
     "execution_count": 28,
     "metadata": {},
     "output_type": "execute_result"
    }
   ],
   "source": [
    "dt"
   ]
  },
  {
   "cell_type": "code",
   "execution_count": 34,
   "metadata": {},
   "outputs": [
    {
     "data": {
      "image/png": "[encoded data removed]",
      "text/plain": [
       "<Figure size 432x288 with 1 Axes>"
      ]
     },
     "metadata": {},
     "output_type": "display_data"
    }
   ],
   "source": [
    "plt.plot(dt.threshold, dt.sensitivity, color = \"blue\")\n",
    "plt.title(\"Sensitivity of Plagiarism Pair Prediction using LSH\")\n",
    "plt.xlabel(\"Threshold\")\n",
    "plt.ylabel(\"Sensitivity\")\n",
    "plt.show()"
   ]
  },
  {
   "cell_type": "markdown",
   "metadata": {},
   "source": [
    "### My thougts:\n",
    "#### Sensitivity is also called true positive rate, defined as TP/(TP+FN).\n",
    "#### Low sensitivity means that in positive test, accuracy of negative prediction is low. If prediction says that this is plagiarism, it is likely to be non-plagiarism.\n",
    "#### We can see from the experiement that as threshold increases, sensitivity decreases, which means that the accuracy of predicing plagiarism in a positive test is low and decreases as threshold increases."
   ]
  },
  {
   "cell_type": "code",
   "execution_count": 36,
   "metadata": {},
   "outputs": [
    {
     "data": {
      "image/png": "[encoded data removed]",
      "text/plain": [
       "<Figure size 432x288 with 1 Axes>"
      ]
     },
     "metadata": {},
     "output_type": "display_data"
    }
   ],
   "source": [
    "plt.plot(dt.threshold, dt.specificity, color = \"Red\")\n",
    "plt.title(\"Specificity of Plagiarism Pair Prediction using LSH\")\n",
    "plt.xlabel(\"Threshold\")\n",
    "plt.ylabel(\"Specificity\")\n",
    "plt.show()"
   ]
  },
  {
   "cell_type": "markdown",
   "metadata": {},
   "source": [
    "### My thoughts:\n",
    "#### Specificy is also called true negative rate, defined as TN/(TN+FP).\n",
    "#### High specificity means that in negative test, accuracy of positive prediction is very high. If prediction says that it is non-plagiarism, it is very likely to be non-plagiarism.\n",
    "#### We can see from the experiement that as threshold increases, specificity increases sharply, which means that accuracy of predicting non-plagiarism in a negative test is very high and increases as threshold increases."
   ]
  }
 ],
 "metadata": {
  "kernelspec": {
   "display_name": "Python 3",
   "language": "python",
   "name": "python3"
  },
  "language_info": {
   "codemirror_mode": {
    "name": "ipython",
    "version": 3
   },
   "file_extension": ".py",
   "mimetype": "text/x-python",
   "name": "python",
   "nbconvert_exporter": "python",
   "pygments_lexer": "ipython3",
   "version": "3.6.5"
  }
 },
 "nbformat": 4,
 "nbformat_minor": 2
}
